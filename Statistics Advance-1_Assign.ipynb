{
 "cells": [
  {
   "cell_type": "markdown",
   "id": "99564836-8bd9-4984-b100-e58db062d881",
   "metadata": {},
   "source": [
    "Q1. What is the Probability density function?"
   ]
  },
  {
   "cell_type": "markdown",
   "id": "b4879650-6271-4681-a44a-d866f17a5804",
   "metadata": {},
   "source": [
    "Answer:\n",
    "A Probability Density Function (PDF) is a concept in probability theory and statistics that is used to describe the likelihood of a continuous random variable taking on a specific value within a given range. In other words, it defines the probability distribution of a continuous random variable."
   ]
  },
  {
   "cell_type": "markdown",
   "id": "ae269ef4-3f55-4841-84a5-c29a48817b89",
   "metadata": {},
   "source": [
    "Q2. What are the types of Probability distribution?"
   ]
  },
  {
   "cell_type": "markdown",
   "id": "5c1ea30f-35cf-4d48-9985-d6353b7c80a9",
   "metadata": {},
   "source": [
    "Answer:\n",
    "(1) Uniform Distribution: In a uniform distribution, all outcomes within a given range are equally likely. It is often represented as a flat, rectangular probability density function. For example, the roll of a fair six-sided die follows a uniform distribution.\n",
    "\n",
    "(2) Normal Distribution (Gaussian Distribution): The normal distribution is one of the most well-known and widely used probability distributions. It is characterized by a bell-shaped curve and is fully described by two parameters: mean (μ) and standard deviation (σ). Many natural phenomena, such as heights and IQ scores, follow a normal distribution.\n",
    "\n",
    "(3) Binomial Distribution: The binomial distribution models the number of successes (usually denoted as \"x\") in a fixed number of independent Bernoulli trials. It is defined by two parameters: the probability of success (p) and the number of trials (n). It's often used to model situations like coin flips or the number of defective items in a sample.\n",
    "\n",
    "(4) Poisson Distribution: The Poisson distribution is used to model the number of events occurring within a fixed interval of time or space. It is characterized by a single parameter, λ (lambda), which represents the average rate of event occurrences. Examples include the number of phone calls at a call center in a given hour.\n",
    "\n",
    "(5) Exponential Distribution: The exponential distribution models the time between events in a Poisson process (a process in which events occur randomly in time or space). It's characterized by a single parameter, λ (lambda), which represents the rate of event occurrences. It is commonly used in reliability analysis and queuing theory."
   ]
  },
  {
   "cell_type": "markdown",
   "id": "ec7e5c94-c4ee-4687-8b36-3b8b9d7ddd5f",
   "metadata": {},
   "source": [
    "Q3. Write a Python function to calculate the probability density function of a normal distribution with\n",
    "given mean and standard deviation at a given point."
   ]
  },
  {
   "cell_type": "code",
   "execution_count": 1,
   "id": "c6809d7a-ce7f-40e6-9fc3-861a189f3354",
   "metadata": {},
   "outputs": [
    {
     "name": "stdout",
     "output_type": "stream",
     "text": [
      "PDF at x = 1.5: 0.12951759566589174\n"
     ]
    }
   ],
   "source": [
    "import math\n",
    "\n",
    "def normal_pdf(x, mean, std_dev):\n",
    "    \"\"\"\n",
    "    Calculate the probability density function (PDF) of a normal distribution\n",
    "    at a given point x.\n",
    "\n",
    "    Args:\n",
    "        x (float): The value at which to calculate the PDF.\n",
    "        mean (float): The mean (average) of the normal distribution.\n",
    "        std_dev (float): The standard deviation of the normal distribution.\n",
    "\n",
    "    Returns:\n",
    "        float: The PDF value at the given point x.\n",
    "    \"\"\"\n",
    "    # Calculate the PDF using the formula\n",
    "    exponent = -((x - mean) ** 2) / (2 * std_dev ** 2)\n",
    "    pdf = (1 / (std_dev * math.sqrt(2 * math.pi))) * math.exp(exponent)\n",
    "    return pdf\n",
    "\n",
    "# Example usage:\n",
    "mean = 0.0\n",
    "std_dev = 1.0\n",
    "x_value = 1.5\n",
    "pdf_value = normal_pdf(x_value, mean, std_dev)\n",
    "print(f\"PDF at x = {x_value}: {pdf_value}\")\n"
   ]
  },
  {
   "cell_type": "markdown",
   "id": "42a58a2f-58c4-457c-84d1-f73f5885183a",
   "metadata": {},
   "source": [
    "Q4. What are the properties of Binomial distribution? Give two examples of events where binomial\n",
    "distribution can be applied."
   ]
  },
  {
   "cell_type": "markdown",
   "id": "1ba78ab0-d6a4-451c-b922-5fe2145e9b97",
   "metadata": {},
   "source": [
    "Answer:\n",
    "The Binomial distribution is a discrete probability distribution that models the number of successes (usually denoted as \"x\") in a fixed number of independent and identically distributed Bernoulli trials, where each trial has only two possible outcomes: success (S) or failure (F). The properties of the Binomial distribution include:\n",
    "\n",
    "Number of Trials (n): The distribution is defined by a fixed number of trials, denoted as \"n.\" Each trial is independent of the others.\n",
    "\n",
    "Probability of Success (p): Each trial has a constant probability of success, denoted as \"p.\" This probability remains the same for all trials.\n",
    "\n",
    "Discreteness: The Binomial distribution is a discrete distribution, meaning that the random variable \"x\" can only take on integer values between 0 and n (inclusive).\n",
    "\n",
    "Independence: Each trial is assumed to be independent of the others. The outcome of one trial does not affect the outcome of any other trial.\n",
    "\n",
    "Two Possible Outcomes: Each trial results in one of two possible outcomes: success (S) or failure (F).\n",
    "\n",
    "Fixed Number of Successes: The Binomial distribution models the number of successes (S) out of \"n\" trials.\n",
    "\n",
    "Probability Mass Function (PMF): The probability mass function for the Binomial distribution is given by:\n",
    "\n",
    "P(x) = C(n, x) * p^x * (1 - p)^(n - x)\n",
    "\n",
    "Where:\n",
    "\n",
    "P(x) is the probability of getting exactly \"x\" successes.\n",
    "C(n, x) is the binomial coefficient, which is the number of ways to choose \"x\" successes out of \"n\" trials and is calculated as C(n, x) = n! / (x!(n - x)!).\n",
    "p is the probability of success in a single trial.\n",
    "(1 - p) is the probability of failure in a single trial.\n",
    "Two examples of events where the Binomial distribution can be applied include:\n",
    "\n",
    "Coin Flips: The outcome of a fair coin flip (heads or tails) is a classic example of a Bernoulli trial. If you flip the coin \"n\" times, you can use the Binomial distribution to model the number of heads you will obtain out of those \"n\" flips, assuming that each flip is independent and has a constant probability of success (0.5 for heads).\n",
    "\n",
    "Quality Control: In manufacturing or quality control processes, you might have a batch of items, and you want to know the probability of a certain number of items in the batch being defective. "
   ]
  },
  {
   "cell_type": "markdown",
   "id": "0f1310c9-c9ce-40e7-839e-411e04ab134e",
   "metadata": {},
   "source": [
    "Q5. Generate a random sample of size 1000 from a binomial distribution with probability of success 0.4\n",
    "and plot a histogram of the results using matplotlib."
   ]
  },
  {
   "cell_type": "code",
   "execution_count": 2,
   "id": "aa5fb327-ceb0-4715-9262-4f036e7ea7c6",
   "metadata": {},
   "outputs": [
    {
     "data": {
      "image/png": "[encoded data removed]",
      "text/plain": [
       "<Figure size 640x480 with 1 Axes>"
      ]
     },
     "metadata": {},
     "output_type": "display_data"
    }
   ],
   "source": [
    "import numpy as np\n",
    "import matplotlib.pyplot as plt\n",
    "\n",
    "# Set the parameters for the binomial distribution\n",
    "n = 1000  # Sample size\n",
    "p = 0.4   # Probability of success\n",
    "\n",
    "random_sample = np.random.binomial(n, p, size=n)\n",
    "\n",
    "# Plot a histogram of the random sample\n",
    "plt.hist(random_sample, bins=20, density=True, color='skyblue', alpha=0.7)\n",
    "plt.title('Histogram of Random Sample (Binomial Distribution)')\n",
    "plt.xlabel('Number of Successes')\n",
    "plt.ylabel('Probability Density')\n",
    "plt.grid(True)\n",
    "\n",
    "plt.show()\n",
    "\n"
   ]
  },
  {
   "cell_type": "markdown",
   "id": "1297bb5f-e839-437b-9cfd-4e1cb1639ed9",
   "metadata": {},
   "source": [
    "Q6. Write a Python function to calculate the cumulative distribution function of a Poisson distribution\n",
    "with given mean at a given point."
   ]
  },
  {
   "cell_type": "code",
   "execution_count": 2,
   "id": "2c0e0f58-7fc3-49ca-9706-3ee8d256a5f9",
   "metadata": {},
   "outputs": [
    {
     "name": "stdout",
     "output_type": "stream",
     "text": [
      "CDF at k = 2: 0.42319008112684364\n"
     ]
    }
   ],
   "source": [
    "from scipy.stats import poisson\n",
    "\n",
    "def poisson_cdf(k, mean):\n",
    "    \"\"\"\n",
    "    Calculate the cumulative distribution function (CDF) of a Poisson distribution\n",
    "    with a given mean at a specific point k.\n",
    "\n",
    "    Args:\n",
    "        k (int): The point at which to calculate the CDF.\n",
    "        mean (float): The mean of the Poisson distribution.\n",
    "\n",
    "    Returns:\n",
    "        float: The CDF value at the given point k.\n",
    "    \"\"\"\n",
    "    cdf_value = poisson.cdf(k, mu=mean)\n",
    "    return cdf_value\n",
    "\n",
    "# Example usage:\n",
    "mean = 3.0\n",
    "k_value = 2\n",
    "cdf_value = poisson_cdf(k_value, mean)\n",
    "print(f\"CDF at k = {k_value}: {cdf_value}\")\n"
   ]
  },
  {
   "cell_type": "markdown",
   "id": "9cd7e4f6-7e0d-4f15-96ec-602b303a7bc2",
   "metadata": {},
   "source": [
    "Q7. How Binomial distribution different from Poisson distribution?"
   ]
  },
  {
   "cell_type": "markdown",
   "id": "535f700c-be79-44e6-b3e7-3e2f52b1416b",
   "metadata": {},
   "source": [
    "Answer:\n",
    "Nature of Trials:\n",
    "\n",
    "Binomial Distribution: The Binomial distribution is used when there are a fixed number of trials (n), and each trial has only two possible outcomes: success or failure. The trials are independent, and the probability of success (p) is constant for each trial.\n",
    "Poisson Distribution: The Poisson distribution is used when events or occurrences happen randomly in time or space, and there is no fixed number of trials. It models the number of events (count data) that occur within a fixed interval or region.\n",
    "\n",
    "Number of Outcomes:\n",
    "\n",
    "Binomial Distribution: In the Binomial distribution, the random variable represents the number of successes (S) out of the fixed number of trials (n). The random variable can take on integer values from 0 to n.\n",
    "Poisson Distribution: In the Poisson distribution, the random variable represents the number of events (k) occurring in a fixed interval or region. The random variable can take on non-negative integer values (0, 1, 2, ...) without an upper limit.\n",
    "\n",
    "Parameters:\n",
    "\n",
    "Binomial Distribution: The Binomial distribution is characterized by two parameters: the number of trials (n) and the probability of success (p).\n",
    "Poisson Distribution: The Poisson distribution is characterized by a single parameter, λ (lambda), which represents the average rate of event occurrences within the fixed interval or region.\n",
    "Shape:\n",
    "\n",
    "Binomial Distribution: The Binomial distribution often has a symmetric or slightly skewed shape, depending on the values of n and p. It approaches a normal distribution when n is large and np and n(1-p) are both sufficiently large.\n"
   ]
  },
  {
   "cell_type": "markdown",
   "id": "e3db6ac8-75ff-4a20-ad8a-139423194d81",
   "metadata": {},
   "source": [
    "Q8. Generate a random sample of size 1000 from a Poisson distribution with mean 5 and calculate the\n",
    "sample mean and variance."
   ]
  },
  {
   "cell_type": "code",
   "execution_count": 3,
   "id": "5c82a5fd-4ec9-4c2a-a851-cf22b0a68006",
   "metadata": {},
   "outputs": [
    {
     "name": "stdout",
     "output_type": "stream",
     "text": [
      "Sample Mean: 5.01\n",
      "Sample Variance: 5.0619\n"
     ]
    }
   ],
   "source": [
    "import numpy as np\n",
    "\n",
    "# Set the parameters\n",
    "sample_size = 1000  # Sample size\n",
    "mean = 5.0  # Mean of the Poisson distribution\n",
    "\n",
    "# Generate the random sample from the Poisson distribution\n",
    "random_sample = np.random.poisson(mean, size=sample_size)\n",
    "\n",
    "# Calculate the sample mean and variance\n",
    "sample_mean = np.mean(random_sample)\n",
    "sample_variance = np.var(random_sample, ddof=0)  # Set ddof=0 for population variance\n",
    "\n",
    "print(f\"Sample Mean: {sample_mean}\")\n",
    "print(f\"Sample Variance: {sample_variance}\")\n"
   ]
  },
  {
   "cell_type": "markdown",
   "id": "c3e8dc91-964a-423c-80f1-4595e67fddd8",
   "metadata": {},
   "source": [
    "Q9. How mean and variance are related in Binomial distribution and Poisson distribution?"
   ]
  },
  {
   "cell_type": "markdown",
   "id": "70a90a39-0d06-4da9-a0e8-1ebe323b8d4e",
   "metadata": {},
   "source": [
    "Answer:\n",
    "Binomial Distribution:\n",
    "\n",
    "In a Binomial distribution with parameters n (number of trials) and p (probability of success on each trial), the mean and variance are related as follows:\n",
    "\n",
    "Mean (μ) = n * p\n",
    "Variance (σ²) = n * p * (1 - p)\n",
    "In the Binomial distribution, the variance is directly influenced by both the number of trials (n) and the probability of success (p) on each trial. As p gets closer to 0 or 1 (meaning the event is extremely unlikely or extremely likely), the variance decreases, and the distribution becomes more concentrated around the mean.\n",
    "\n",
    "Poisson Distribution:\n",
    "\n",
    "In a Poisson distribution with parameter λ (lambda), which represents the average rate of event occurrences in a fixed interval or region, the mean and variance are related as follows:\n",
    "\n",
    "Mean (μ) = λ\n",
    "Variance (σ²) = λ\n",
    "In the Poisson distribution, the mean (λ) and variance (λ) are equal. This means that in a Poisson distribution, the variance is solely determined by the average rate of event occurrences within the fixed interval or region. As λ increases, the variance also increases, indicating greater variability in event occurrences."
   ]
  },
  {
   "cell_type": "markdown",
   "id": "28fdd846-0cc4-4258-a074-e851fcd112b2",
   "metadata": {},
   "source": [
    "Q10. In normal distribution with respect to mean position, where does the least frequent data appear?"
   ]
  },
  {
   "cell_type": "code",
   "execution_count": null,
   "id": "7827e016-244e-4765-a7cc-4f92fbaf9be7",
   "metadata": {},
   "outputs": [],
   "source": []
  }
 ],
 "metadata": {
  "kernelspec": {
   "display_name": "Python 3 (ipykernel)",
   "language": "python",
   "name": "python3"
  },
  "language_info": {
   "codemirror_mode": {
    "name": "ipython",
    "version": 3
   },
   "file_extension": ".py",
   "mimetype": "text/x-python",
   "name": "python",
   "nbconvert_exporter": "python",
   "pygments_lexer": "ipython3",
   "version": "3.10.8"
  }
 },
 "nbformat": 4,
 "nbformat_minor": 5
}
